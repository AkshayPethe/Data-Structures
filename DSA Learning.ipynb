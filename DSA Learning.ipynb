{
 "cells": [
  {
   "cell_type": "markdown",
   "id": "862ee4f8",
   "metadata": {},
   "source": [
    "#### Prefix Sum Problem"
   ]
  },
  {
   "cell_type": "code",
   "execution_count": 11,
   "id": "5ff7095b",
   "metadata": {},
   "outputs": [
    {
     "name": "stdout",
     "output_type": "stream",
     "text": [
      "7.0\n",
      "4.5\n",
      "5.0\n",
      "15\n"
     ]
    }
   ],
   "source": [
    "l = [2,3,-1,5,11,5]\n",
    "q = [[2,4],[0,3],[1,4]]\n",
    "pre = []\n",
    "sum_ = 0\n",
    "for i in l:\n",
    "    sum_+=i\n",
    "    pre.append(sum_)\n",
    "for j in q:\n",
    "    std = j[0]\n",
    "    end = j[1]\n",
    "    print((pre[end+1]-pre[std])/((end-std) + 1))\n",
    "    \n",
    "std = 1\n",
    "end = 3\n",
    "\n",
    "print((pre[end+1]-pre[std]))"
   ]
  },
  {
   "cell_type": "markdown",
   "id": "4b9cf5a0",
   "metadata": {},
   "source": [
    "#### Two Pointer Problem"
   ]
  },
  {
   "cell_type": "markdown",
   "id": "92c35491",
   "metadata": {},
   "source": [
    "Suppose you have a sorted array of integers and you want to find a pair of elements that sums up to a given target value."
   ]
  },
  {
   "cell_type": "code",
   "execution_count": 17,
   "id": "80ba7fe7",
   "metadata": {},
   "outputs": [
    {
     "name": "stdout",
     "output_type": "stream",
     "text": [
      "(4, 8, 'Happy')\n"
     ]
    }
   ],
   "source": [
    "def two_pointer_pair_sum(arr,target):\n",
    "    left = arr[0]\n",
    "    right = len(arr)-1\n",
    "    \n",
    "    while left<right:\n",
    "        current_sum = arr[left]+arr[right]\n",
    "        \n",
    "        if current_sum==target:\n",
    "            return (arr[left],arr[right],\"Happy\")\n",
    "        \n",
    "        elif current_sum<target:\n",
    "            left+=1\n",
    "        else:\n",
    "            right-=1\n",
    "            \n",
    "    return None\n",
    "\n",
    "arr = [1, 2, 3, 4, 5, 6, 7, 8]\n",
    "target = 12\n",
    "result = two_pointer_pair_sum(arr, target)\n",
    "print(result)"
   ]
  },
  {
   "cell_type": "markdown",
   "id": "503ac7bd",
   "metadata": {},
   "source": [
    "Suppose you have two sorted array and we have to merge two array and result should be sorted."
   ]
  },
  {
   "cell_type": "code",
   "execution_count": 9,
   "id": "be5316a2",
   "metadata": {},
   "outputs": [
    {
     "name": "stdout",
     "output_type": "stream",
     "text": [
      "[1, 2, 3, 4, 5, 6, 7, 8, 9, 10]\n"
     ]
    }
   ],
   "source": [
    "def two_pointer_sorted(arr1,arr2,start_arr1,start_arr2):\n",
    "    new_arr = []\n",
    "    \n",
    "    #The Constraint for code\n",
    "    while len(arr1)>start_arr1 and len(arr2)>start_arr2:\n",
    "        if arr1[start_arr1] < arr2[start_arr2]:\n",
    "            new_arr.append(arr1[start_arr1])\n",
    "            start_arr1 +=1           #changing Arr1 Position and Arr2 constant as Arr1[i]<Arr2[j]\n",
    "\n",
    "        else :\n",
    "            new_arr.append(arr2[start_arr2])\n",
    "            start_arr2+=1            #changing Arr2 Position and Arr1 constant as Arr1[i]<Arr2[j]\n",
    "            \n",
    "    #When One of the array get exhausted above loop is break\n",
    "    #Then for remaining elements to merge\n",
    "            \n",
    "    while len(arr1)> start_arr1:\n",
    "        new_arr.append(arr1[start_arr1])\n",
    "        start_arr1 +=1\n",
    "        \n",
    "    while len(arr2)> start_arr2:\n",
    "        new_arr.append(arr2[start_arr2])\n",
    "        start_arr2 +=1\n",
    "        \n",
    "            \n",
    "\n",
    "\n",
    "    return new_arr\n",
    "\n",
    "\n",
    "arr1 = [1, 3, 5, 7,9,10]\n",
    "arr2 = [2, 4, 6, 8]\n",
    "result = two_pointer_sorted(arr1, arr2, 0, 0)\n",
    "print(result)  # Output: [1, 2, 3, 4, 5, 6, 7, 8]   \n",
    "    "
   ]
  },
  {
   "cell_type": "markdown",
   "id": "d0e58813",
   "metadata": {},
   "source": [
    "Suppose we have two arrays.Find all how many elements thats are smaller in Array1 (arr1[i]<arr2[j]) from array2 elements. "
   ]
  },
  {
   "cell_type": "code",
   "execution_count": 16,
   "id": "b21b709b",
   "metadata": {},
   "outputs": [
    {
     "name": "stdout",
     "output_type": "stream",
     "text": [
      "[1, 2, 3, 4]\n"
     ]
    }
   ],
   "source": [
    "def two_pointer_arrays_compare(arr1,arr2):\n",
    "    result = [0]*len(arr2)\n",
    "    \n",
    "    start_arr1 = 0\n",
    "    start_arr2 = 0\n",
    "    \n",
    "    while len(arr1)>start_arr1 and len(arr2)>start_arr2:\n",
    "        \n",
    "        if arr1[start_arr1]<=arr2[start_arr2]:\n",
    "            start_arr1+=1\n",
    "            \n",
    "        else:\n",
    "            result[start_arr2] = start_arr1\n",
    "            start_arr2+=1\n",
    "            \n",
    "    while len(arr2)>start_arr2:\n",
    "        result[start_arr2] = start_arr1\n",
    "        start_arr2+=1\n",
    "            \n",
    "    return result\n",
    "            \n",
    "arr1 = [1, 3, 5, 7,9,10]\n",
    "arr2 = [2, 4, 6, 8]\n",
    "result = two_pointer_arrays_compare(arr1, arr2)\n",
    "print(result)\n",
    "\n"
   ]
  },
  {
   "cell_type": "markdown",
   "id": "1eed0a87",
   "metadata": {},
   "source": [
    "Given an integer array nums, return all the triplets [nums[i], nums[j], nums[k]] such that i != j, i != k, and j != k, and nums[i] + nums[j] + nums[k] == 0."
   ]
  },
  {
   "cell_type": "code",
   "execution_count": 26,
   "id": "1c3e5fb4",
   "metadata": {},
   "outputs": [],
   "source": [
    "class Solution(object):\n",
    "    def threeSum(self, nums):\n",
    "        nums.sort()\n",
    "        result = []\n",
    "        \n",
    "        for i in range(len(nums) - 2):\n",
    "            if i > 0 and nums[i] == nums[i - 1]: #Checking i has a duplicate and skipping\n",
    "                continue\n",
    "            \n",
    "            left = i + 1\n",
    "            right = len(nums) - 1\n",
    "            \n",
    "            while left < right:\n",
    "                total = nums[i] + nums[left] + nums[right]\n",
    "                \n",
    "                if total < 0:\n",
    "                    left += 1\n",
    "                elif total > 0:\n",
    "                    right -= 1\n",
    "                else:\n",
    "                    result.append([nums[i], nums[left], nums[right]) \n",
    "                    \n",
    "                    while left < right and nums[left] == nums[left + 1]:   #Checking if left has a duplicate and skipping\n",
    "                        left += 1\n",
    "                    while left < right and nums[right] == nums[right - 1]: #Checking if right has a duplicate and skipping\n",
    "                        right -= 1\n",
    "                    \n",
    "                    left += 1\n",
    "                    right -= 1\n",
    "        \n",
    "        return result\n"
   ]
  },
  {
   "cell_type": "markdown",
   "id": "d1376122",
   "metadata": {},
   "source": [
    "You have a list of numbers return the min diff, can use any python/SQL"
   ]
  },
  {
   "cell_type": "code",
   "execution_count": 49,
   "id": "2546dd85",
   "metadata": {},
   "outputs": [],
   "source": [
    "def arr_min_diff(arr):\n",
    "    arr.sort()  # Sort the input array in ascending order.\n",
    "    min_diff = float('inf')  # Initialize min_diff with positive infinity.\n",
    "\n",
    "    for i in range(1, len(arr)):\n",
    "        diff = arr[i] - arr[i - 1]\n",
    "        min_diff = min(min_diff, diff)\n",
    "\n",
    "    return min_diff\n"
   ]
  },
  {
   "cell_type": "markdown",
   "id": "0f49f844",
   "metadata": {},
   "source": [
    "Given an integer x, return true if x is a palindrome and false otherwise."
   ]
  },
  {
   "cell_type": "code",
   "execution_count": 66,
   "id": "d8398c46",
   "metadata": {},
   "outputs": [],
   "source": [
    "def isPalindrome(self, x):\n",
    "        if x<0 or x<10:\n",
    "            return False\n",
    "        \n",
    "        left = 0\n",
    "        right = len(str(x))-1\n",
    "\n",
    "        x_str = str(x)\n",
    "\n",
    "        while left<right:\n",
    "            if x_str[left]!=x_str[right]:\n",
    "                return False\n",
    "            else:\n",
    "                left+=1\n",
    "                right-=1\n",
    "\n",
    "        return True"
   ]
  },
  {
   "cell_type": "markdown",
   "id": "16482d12",
   "metadata": {},
   "source": [
    "You are given an integer array height of length n. There are n vertical lines drawn such that the two endpoints of the ith line are (i, 0) and (i, height[i]).\n",
    "\n",
    "Find two lines that together with the x-axis form a container, such that the container contains the most water.\n",
    "\n",
    "Return the maximum amount of water a container can store."
   ]
  },
  {
   "cell_type": "code",
   "execution_count": null,
   "id": "71af171b",
   "metadata": {},
   "outputs": [],
   "source": [
    "def maxArea(self, height):\n",
    "        left = 0\n",
    "        right = len(height)-1\n",
    "        max_area= 0\n",
    "\n",
    "        while left<right:\n",
    "            width = right-left\n",
    "            min_diff = min(height[left],height[right]) #As Both Sides should be equal to hold water\n",
    "            area = min_diff*width         #As its square area\n",
    "            max_area = max(max_area,area)\n",
    "\n",
    "            if height[left]<height[right]:  #As we will always require max height for max_area\n",
    "                left+=1\n",
    "            else:\n",
    "                right-=1\n",
    "        return max_area"
   ]
  },
  {
   "cell_type": "markdown",
   "id": "83cf529b",
   "metadata": {},
   "source": [
    "Suppose a target is given and we have to find the sum of any three element in an array and give the sum closest to target"
   ]
  },
  {
   "cell_type": "code",
   "execution_count": null,
   "id": "0c53226b",
   "metadata": {},
   "outputs": [],
   "source": [
    "class Solution(object):\n",
    "    def threeSumClosest(self, nums, target):\n",
    "        nums.sort()\n",
    "        close = float('inf')\n",
    "        min_diff = float('inf')\n",
    "\n",
    "        for i in range(len(nums)-2):\n",
    "            left = i+1\n",
    "            right = len(nums)-1\n",
    "\n",
    "            while left<right:\n",
    "                curr_sum = nums[i]+nums[left]+nums[right]\n",
    "\n",
    "                diff = abs(target-curr_sum)\n",
    "\n",
    "                if min_diff>diff:\n",
    "                    min_diff = diff      #updation of min_diff for next iteration\n",
    "                    close = curr_sum\n",
    "                    \n",
    "                if curr_sum<target: #To Counter if Targets are negative\n",
    "                    left+=1\n",
    "                else:\n",
    "                    right-=1\n",
    "        return close"
   ]
  },
  {
   "cell_type": "code",
   "execution_count": null,
   "id": "542f4368",
   "metadata": {},
   "outputs": [],
   "source": []
  },
  {
   "cell_type": "markdown",
   "id": "3e947865",
   "metadata": {},
   "source": [
    "#### Recursion Problem"
   ]
  },
  {
   "cell_type": "markdown",
   "id": "e1727c54",
   "metadata": {},
   "source": [
    "- Base Case Mistakes: Every recursive function should have one or more base cases that determine when the recursion should stopdef even().\n",
    "- Merge the problem properly\n",
    "- Break it into Smaller Subproblems.\n",
    "- Use Memoization or Dynamic Programming to avoid unnecessary repetation of work.\n"
   ]
  },
  {
   "cell_type": "markdown",
   "id": "a9690ae3",
   "metadata": {},
   "source": [
    "#### Binary Search\n",
    "- Time Complexity - O(nlogn)"
   ]
  },
  {
   "cell_type": "markdown",
   "id": "d8fa457e",
   "metadata": {},
   "source": [
    "Given a circularly sorted integer array, find the total number of times the array is rotated. Assume there are no duplicates in the array, and the rotation is in the anti-clockwise direction."
   ]
  },
  {
   "cell_type": "code",
   "execution_count": 99,
   "id": "b25ff727",
   "metadata": {},
   "outputs": [],
   "source": [
    "def sorted_array(array):\n",
    "    \n",
    "    left,right = 0,len(array)-1\n",
    "    \n",
    "    while left<=right:\n",
    "        \n",
    "        mid = (left+right)//2\n",
    "        prev = (array[mid]-1)% len(array)\n",
    "        next_ = (mid - 1 + len(array)) % len(array)\n",
    "        \n",
    "        if array[mid]< prev  and (array[mid]< next_):\n",
    "            return mid\n",
    "        \n",
    "        elif array[mid]>= array[left]:\n",
    "            \n",
    "            left = mid+1\n",
    "            \n",
    "        else:\n",
    "            right = mid-1\n",
    "    return -1\n",
    "            \n",
    "            \n",
    "            \n",
    "            "
   ]
  },
  {
   "cell_type": "markdown",
   "id": "f20f77e2",
   "metadata": {},
   "source": [
    "Consider the array arr = [4, 5, 6, 7, 1, 2, 3]. If we look for the minimum element and consider mid as the index of an element, the next index (next_mid) should wrap around to the beginning of the array when it exceeds the array's length. This is because the array is circularly sorted, so the next element after the last one should be the first element.\n",
    "\n",
    "Here's a breakdown:\n",
    "\n",
    "If we consider mid = 3, the next element should be 7. However, the length of arr is 7, and there is no index 7. So, next_mid = (mid + 1) % len(arr) calculates next_mid = 7 % 7, which equals 0, giving us 4, which is the correct next element in a circular sense.\n",
    "\n",
    "Similarly, if mid = 6, the next element should be arr[0], and next_mid = (mid + 1) % len(arr) calculates next_mid = 7 % 7, which equals 0, correctly wrapping around to the first element.\n",
    "\n",
    "This ensures that we correctly handle the circular nature of the sorted array, and it prevents \"index out of range\" errors."
   ]
  },
  {
   "cell_type": "markdown",
   "id": "d8c665fe",
   "metadata": {},
   "source": [
    "----------------------------------------------------------------------------------------------------------------------"
   ]
  },
  {
   "cell_type": "markdown",
   "id": "2dd70166",
   "metadata": {},
   "source": [
    "Given a circularly sorted integer array, find the total number of times the array is rotated. Assume there are no duplicates in the array, and the rotation is in the anti-clockwise direction."
   ]
  },
  {
   "cell_type": "code",
   "execution_count": null,
   "id": "26d06a62",
   "metadata": {},
   "outputs": [],
   "source": [
    "l=[8,9,10,2,5,6]"
   ]
  },
  {
   "cell_type": "code",
   "execution_count": 103,
   "id": "a8d96e73",
   "metadata": {},
   "outputs": [],
   "source": [
    "def sorted_array_search(A,target):\n",
    "    \n",
    "    left = 0\n",
    "    right = len(A)-1\n",
    "    \n",
    "    while left<=right:\n",
    "        mid = (left+right)//2\n",
    "        prev = (mid-1)%len(A)\n",
    "        next_ = (mid+1)%len(A)\n",
    "        \n",
    "        if A[mid] == target:\n",
    "            return mid\n",
    "        elif A[mid]>target and A[next_]<target:\n",
    "            left = mid+1\n",
    "        else:\n",
    "            right = mid-1\n",
    "    return -1"
   ]
  },
  {
   "cell_type": "code",
   "execution_count": 111,
   "id": "0ead9d3b",
   "metadata": {},
   "outputs": [
    {
     "data": {
      "text/plain": [
       "-1"
      ]
     },
     "execution_count": 111,
     "metadata": {},
     "output_type": "execute_result"
    }
   ],
   "source": [
    "A=[8,9,10,2,5,6]\n",
    "sorted_array_search(A,6)"
   ]
  },
  {
   "cell_type": "code",
   "execution_count": null,
   "id": "a424db67",
   "metadata": {},
   "outputs": [],
   "source": []
  }
 ],
 "metadata": {
  "kernelspec": {
   "display_name": "Python 3 (ipykernel)",
   "language": "python",
   "name": "python3"
  },
  "language_info": {
   "codemirror_mode": {
    "name": "ipython",
    "version": 3
   },
   "file_extension": ".py",
   "mimetype": "text/x-python",
   "name": "python",
   "nbconvert_exporter": "python",
   "pygments_lexer": "ipython3",
   "version": "3.11.4"
  }
 },
 "nbformat": 4,
 "nbformat_minor": 5
}
