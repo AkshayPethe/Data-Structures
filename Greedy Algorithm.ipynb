{
 "cells": [
  {
   "cell_type": "markdown",
   "id": "f6a89841",
   "metadata": {},
   "source": [
    "#### Greedy Algorithm"
   ]
  },
  {
   "cell_type": "markdown",
   "id": "a223ec76",
   "metadata": {},
   "source": [
    "- Its an algorithm which follows problem solving heuristic approach of making a local maxima(optimum) choices at each stage hoping to find the global maxima(optimum) eventually.In other words, a greedy algorithm makes the best possible decision at each step without considering the entire problem"
   ]
  },
  {
   "cell_type": "markdown",
   "id": "acd5397a",
   "metadata": {},
   "source": [
    "**Steps Involved in a Greedy Algorithm:**\n",
    "\n",
    "- Initialization: Initialize the solution with an empty or default value.\n",
    "- Greedy Choice: At each step, make the locally optimal choice. This is the crux of the greedy algorithm.\n",
    "- Feasibility Check: Check whether the current choice is feasible and satisfies the problem constraints.\n",
    "- Update Solution: Update the solution with the chosen option.\n",
    "- Termination: Stop when a solution to the entire problem is reached.\n",
    "\n",
    "\n",
    "-------------------------------------------------------------------------------------------------------------------\n",
    "the greedy algorithm doesn't always produce the optimal solution. This is the major disadvantage of the algorithm for Example if we want to choose the longest path then we have to consider options even after the options at hand but greedy algorithm only focuses on Local optimal solution which may not be the best case scenario."
   ]
  },
  {
   "cell_type": "markdown",
   "id": "c3353f83",
   "metadata": {},
   "source": [
    "--------------------------------------------------------------------------------------------------------------------------------------------"
   ]
  },
  {
   "cell_type": "markdown",
   "id": "36144237",
   "metadata": {},
   "source": [
    "The \"Coin Change Problem.\" In this problem, the goal is to find the minimum number of coins needed to make change for a given amount using a set of coin denominations."
   ]
  },
  {
   "cell_type": "code",
   "execution_count": 15,
   "id": "2e36e514",
   "metadata": {},
   "outputs": [],
   "source": [
    "def greedy_coin_den(coins,target):\n",
    "    \n",
    "    coins.sort(reverse = True)\n",
    "    coin_count = 0\n",
    "    \n",
    "    remaining_amount = target\n",
    "    \n",
    "    for coin in coins:\n",
    "        \n",
    "        num_coins = remaining_amount//coin\n",
    "        \n",
    "        coin_count+=num_coins\n",
    "        \n",
    "        remaining_amount -=(num_coins*coin)\n",
    "        \n",
    "        \n",
    "        if remaining_amount==0:\n",
    "            break\n",
    "        \n",
    "    if remaining_amount==0:\n",
    "        return f\" Mininum coins required are {coin_count}\"\n",
    "    else:\n",
    "        return f\"These amount cannot be possible to make change for given denomination\""
   ]
  },
  {
   "cell_type": "code",
   "execution_count": 22,
   "id": "005de383",
   "metadata": {},
   "outputs": [
    {
     "data": {
      "text/plain": [
       "'These amount cannot be possible to make change for given denomination'"
      ]
     },
     "execution_count": 22,
     "metadata": {},
     "output_type": "execute_result"
    }
   ],
   "source": [
    "coins = [2,5,10,100,500,1000,2000]\n",
    "greedy_coin_den(coins,3758)"
   ]
  },
  {
   "cell_type": "markdown",
   "id": "39f57425",
   "metadata": {},
   "source": [
    "-----------------------------------------------------------------------------------------------------------------------------"
   ]
  },
  {
   "cell_type": "markdown",
   "id": "809bbf6b",
   "metadata": {},
   "source": [
    "- You are given n activities with their start and finish times. Select the maximum number of activities that can be performed by a single person, assuming that a person can only work on a single activity at a time. "
   ]
  },
  {
   "cell_type": "code",
   "execution_count": null,
   "id": "79368d18",
   "metadata": {},
   "outputs": [],
   "source": [
    "start = [1, 3, 0, 5, 8, 5]\n",
    "finish= [2, 4, 6, 7, 9, 9]\n",
    "\n",
    "def JobActivity(s,f):\n",
    "    \n",
    "    "
   ]
  }
 ],
 "metadata": {
  "kernelspec": {
   "display_name": "Python 3 (ipykernel)",
   "language": "python",
   "name": "python3"
  },
  "language_info": {
   "codemirror_mode": {
    "name": "ipython",
    "version": 3
   },
   "file_extension": ".py",
   "mimetype": "text/x-python",
   "name": "python",
   "nbconvert_exporter": "python",
   "pygments_lexer": "ipython3",
   "version": "3.11.4"
  }
 },
 "nbformat": 4,
 "nbformat_minor": 5
}
