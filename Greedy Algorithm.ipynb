{
 "cells": [
  {
   "cell_type": "markdown",
   "id": "4449168d",
   "metadata": {},
   "source": [
    "#### Greedy Algorithm"
   ]
  },
  {
   "cell_type": "markdown",
   "id": "a076fb80",
   "metadata": {},
   "source": [
    "- Its an algorithm which follows problem solving heuristic approach of making a local maxima(optimum) choices at each stage hoping to find the global maxima(optimum) eventually.In other words, a greedy algorithm makes the best possible decision at each step without considering the entire problem"
   ]
  },
  {
   "cell_type": "markdown",
   "id": "1d87e770",
   "metadata": {},
   "source": [
    "**Steps Involved in a Greedy Algorithm:**\n",
    "\n",
    "- Initialization: Initialize the solution with an empty or default value.\n",
    "- Greedy Choice: At each step, make the locally optimal choice. This is the crux of the greedy algorithm.\n",
    "- Feasibility Check: Check whether the current choice is feasible and satisfies the problem constraints.\n",
    "- Update Solution: Update the solution with the chosen option.\n",
    "- Termination: Stop when a solution to the entire problem is reached."
   ]
  },
  {
   "cell_type": "code",
   "execution_count": null,
   "id": "b6ad95b2",
   "metadata": {},
   "outputs": [],
   "source": []
  }
 ],
 "metadata": {
  "kernelspec": {
   "display_name": "Python 3 (ipykernel)",
   "language": "python",
   "name": "python3"
  },
  "language_info": {
   "codemirror_mode": {
    "name": "ipython",
    "version": 3
   },
   "file_extension": ".py",
   "mimetype": "text/x-python",
   "name": "python",
   "nbconvert_exporter": "python",
   "pygments_lexer": "ipython3",
   "version": "3.11.4"
  }
 },
 "nbformat": 4,
 "nbformat_minor": 5
}
