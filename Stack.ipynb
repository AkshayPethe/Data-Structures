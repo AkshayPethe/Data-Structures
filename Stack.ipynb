{
 "cells": [
  {
   "cell_type": "markdown",
   "id": "315f6a15",
   "metadata": {},
   "source": [
    "A **stack** is a fundamental data structure that follows the Last In, First Out (LIFO) principle. This means that the last element added to the stack is the first one to be removed. Think of it like a stack of plates where you can only add or remove a plate from the top.\n",
    "\n",
    "A stack supports two primary operations:\n",
    "\n",
    "- Push: Adds an element to the top of the stack.\n",
    "- Pop: Removes the element from the top of the stack.\n",
    "\n",
    "\n",
    "Additional operations that are often implemented include:\n",
    "\n",
    "- Peek (or Top): Returns the element at the top of the stack without removing it.\n",
    "**is_empty**: Checks if the stack is empty.\n",
    "**size**: Returns the number of elements in the stack."
   ]
  },
  {
   "cell_type": "code",
   "execution_count": null,
   "id": "8022de15",
   "metadata": {},
   "outputs": [],
   "source": []
  }
 ],
 "metadata": {
  "kernelspec": {
   "display_name": "Python 3 (ipykernel)",
   "language": "python",
   "name": "python3"
  },
  "language_info": {
   "codemirror_mode": {
    "name": "ipython",
    "version": 3
   },
   "file_extension": ".py",
   "mimetype": "text/x-python",
   "name": "python",
   "nbconvert_exporter": "python",
   "pygments_lexer": "ipython3",
   "version": "3.11.4"
  }
 },
 "nbformat": 4,
 "nbformat_minor": 5
}
