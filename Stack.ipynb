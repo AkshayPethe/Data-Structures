{
 "cells": [
  {
   "cell_type": "markdown",
   "id": "1704de98",
   "metadata": {},
   "source": [
    "A **stack** is a fundamental data structure that follows the Last In, First Out (LIFO) principle. This means that the last element added to the stack is the first one to be removed. Think of it like a stack of plates where you can only add or remove a plate from the top.\n",
    "\n",
    "A stack supports two primary operations:\n",
    "\n",
    "- Push: Adds an element to the top of the stack.\n",
    "- Pop: Removes the element from the top of the stack.\n",
    "\n",
    "\n",
    "Additional operations that are often implemented include:\n",
    "\n",
    "- Peek (or Top): Returns the element at the top of the stack without removing it.\n",
    "**is_empty**: Checks if the stack is empty.\n",
    "**size**: Returns the number of elements in the stack."
   ]
  },
  {
   "cell_type": "code",
   "execution_count": 23,
   "id": "662bbfa7",
   "metadata": {},
   "outputs": [],
   "source": [
    "class Stack():\n",
    "    \n",
    "    def __init__(self):\n",
    "        self.item = []\n",
    "        \n",
    "        \n",
    "    def isempty(self):\n",
    "        return len(self.item)==0\n",
    "        \n",
    "    def size(self):\n",
    "        return len(self.item)\n",
    "    \n",
    "    def push(self,ele):\n",
    "        self.item.append(ele)\n",
    "        \n",
    "    def peek(self):\n",
    "        try:\n",
    "            if not self.isempty():\n",
    "                return self.item[-1]\n",
    "            else :\n",
    "                raise IndexError(\"peek  a empty Stack\")\n",
    "            \n",
    "    def pop(self):\n",
    "        if not self.isempty():\n",
    "            self.item.pop()\n",
    "            \n",
    "        else:\n",
    "            raise IndexError(\"Pop from a Empty Stack\")\n",
    "            \n",
    "stack = Stack()\n",
    "        "
   ]
  },
  {
   "cell_type": "code",
   "execution_count": 18,
   "id": "18ec671c",
   "metadata": {},
   "outputs": [],
   "source": [
    "stack.push(0)\n",
    "stack.push(7)\n",
    "stack.push(9)"
   ]
  },
  {
   "cell_type": "code",
   "execution_count": 25,
   "id": "82fc0fb0",
   "metadata": {},
   "outputs": [
    {
     "ename": "IndexError",
     "evalue": "peek from a empty Stack",
     "output_type": "error",
     "traceback": [
      "\u001b[1;31m---------------------------------------------------------------------------\u001b[0m",
      "\u001b[1;31mIndexError\u001b[0m                                Traceback (most recent call last)",
      "Cell \u001b[1;32mIn[25], line 1\u001b[0m\n\u001b[1;32m----> 1\u001b[0m stack\u001b[38;5;241m.\u001b[39mpeek()\n",
      "Cell \u001b[1;32mIn[23], line 20\u001b[0m, in \u001b[0;36mStack.peek\u001b[1;34m(self)\u001b[0m\n\u001b[0;32m     18\u001b[0m     \u001b[38;5;28;01mreturn\u001b[39;00m \u001b[38;5;28mself\u001b[39m\u001b[38;5;241m.\u001b[39mitem[\u001b[38;5;241m-\u001b[39m\u001b[38;5;241m1\u001b[39m]\n\u001b[0;32m     19\u001b[0m \u001b[38;5;28;01melse\u001b[39;00m :\n\u001b[1;32m---> 20\u001b[0m     \u001b[38;5;28;01mraise\u001b[39;00m \u001b[38;5;167;01mIndexError\u001b[39;00m(\u001b[38;5;124m\"\u001b[39m\u001b[38;5;124mpeek from a empty Stack\u001b[39m\u001b[38;5;124m\"\u001b[39m)\n",
      "\u001b[1;31mIndexError\u001b[0m: peek from a empty Stack"
     ]
    }
   ],
   "source": [
    "stack.peek()"
   ]
  },
  {
   "cell_type": "code",
   "execution_count": 20,
   "id": "61df5819",
   "metadata": {},
   "outputs": [
    {
     "data": {
      "text/plain": [
       "7"
      ]
     },
     "execution_count": 20,
     "metadata": {},
     "output_type": "execute_result"
    }
   ],
   "source": [
    "stack.pop()\n",
    "stack.peek()"
   ]
  },
  {
   "cell_type": "code",
   "execution_count": 21,
   "id": "362ee45d",
   "metadata": {},
   "outputs": [
    {
     "data": {
      "text/plain": [
       "7"
      ]
     },
     "execution_count": 21,
     "metadata": {},
     "output_type": "execute_result"
    }
   ],
   "source": [
    "stack.isempty()\n",
    "stack.peek()"
   ]
  },
  {
   "cell_type": "code",
   "execution_count": 22,
   "id": "5cdeddac",
   "metadata": {},
   "outputs": [
    {
     "data": {
      "text/plain": [
       "False"
      ]
     },
     "execution_count": 22,
     "metadata": {},
     "output_type": "execute_result"
    }
   ],
   "source": [
    "stack.isempty()"
   ]
  },
  {
   "cell_type": "code",
   "execution_count": null,
   "id": "addd9784",
   "metadata": {},
   "outputs": [],
   "source": []
  }
 ],
 "metadata": {
  "kernelspec": {
   "display_name": "Python 3 (ipykernel)",
   "language": "python",
   "name": "python3"
  },
  "language_info": {
   "codemirror_mode": {
    "name": "ipython",
    "version": 3
   },
   "file_extension": ".py",
   "mimetype": "text/x-python",
   "name": "python",
   "nbconvert_exporter": "python",
   "pygments_lexer": "ipython3",
   "version": "3.11.4"
  }
 },
 "nbformat": 4,
 "nbformat_minor": 5
}
